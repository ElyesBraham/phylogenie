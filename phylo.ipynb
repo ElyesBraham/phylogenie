{
 "cells": [
  {
   "cell_type": "markdown",
   "metadata": {},
   "source": [
    "BRAHAM Elyes (code non fonctionnel et incomplet)\n",
    "\n",
    "Ce code présente une tentative de programmation de l'algorithm de Fitch, ainsi que l'utilisation de la librairie Biopython pour manipuler des arbres phylogénétiques.\n",
    "\n",
    "Sources : https://biopython.org/wiki/Phylo \n",
    "          https://github.com/osnow/Fitch_project"
   ]
  },
  {
   "cell_type": "markdown",
   "metadata": {},
   "source": [
    "Packages et librairies python"
   ]
  },
  {
   "cell_type": "code",
   "execution_count": 455,
   "metadata": {},
   "outputs": [],
   "source": [
    "#!/usr/bin/python3\n",
    "#-*- coding : utf-8 -*-\n",
    "import os, sys\n",
    "import pandas as pd\n",
    "import Bio as Bio \n",
    "import itertools\n",
    "import pylab\n",
    "from Bio import Phylo, AlignIO \n",
    "from io import StringIO \n",
    "from Bio.Phylo.TreeConstruction import *"
   ]
  },
  {
   "cell_type": "markdown",
   "metadata": {},
   "source": [
    "Données de l'arbre (à modifier si l'on veut changer l'exemple d'entrée)"
   ]
  },
  {
   "cell_type": "code",
   "execution_count": 456,
   "metadata": {},
   "outputs": [
    {
     "data": {
      "image/png": "[encoded data removed]",
      "text/plain": [
       "<Figure size 1000x500 with 1 Axes>"
      ]
     },
     "metadata": {
      "needs_background": "light"
     },
     "output_type": "display_data"
    },
    {
     "name": "stdout",
     "output_type": "stream",
     "text": [
      "Tree(rooted=False, weight=1.0)\n",
      "    Clade(branch_length=0.0)\n",
      "        Clade(branch_length=0.0)\n",
      "            Clade(branch_length=0.0)\n",
      "                Clade(branch_length=0.0, name='T')\n",
      "                Clade(branch_length=0.0, name='G')\n",
      "            Clade(branch_length=0.0)\n",
      "                Clade(branch_length=0.0, name='T')\n",
      "                Clade(branch_length=0.0, name='A')\n",
      "        Clade(branch_length=0.0)\n",
      "            Clade(branch_length=0.0, name='A')\n",
      "            Clade(branch_length=0.0, name='G')\n"
     ]
    }
   ],
   "source": [
    "treedata = \"(((T, G), (T, A)), (A, G));\"   # Exemple vu en cours au standard Newick\n",
    "handle = StringIO(treedata)                # Données mises en mémoire\n",
    "tree = Phylo.read(handle, \"newick\")        # Renvoie une arborescence à partir du \"handle\" mémoire StringIO\n",
    "fig = plt.figure(figsize=(10, 5), dpi=100) # Plot de l'arborescence \n",
    "axes = fig.add_subplot(1, 1, 1)            # Ajout des axes branch length et taxa (même si leur valeur importe peu dans notre cas)\n",
    "Phylo.draw(tree, axes=axes)                # Visualisation de l'arborescence\n",
    "Phylo.write(tree, \"tree.nw\", \"newick\")     # Sauvegarde dans un fichier au format newick pour plus tard\n",
    "tree = Phylo.read(\"tree.nw\", \"newick\")     # Création d'un fichier .nw \n",
    "print(tree)                              "
   ]
  },
  {
   "cell_type": "code",
   "execution_count": 460,
   "metadata": {},
   "outputs": [],
   "source": [
    "def phase_montante(self, tree): \n",
    "    clade.character = set([treedata.loc[clade.label]])\n",
    "    for clade in tree.get_nonterminals(order=\"postorder\"):\n",
    "        clade_childs = clade.clades # les clade de chaque noeuds intersectionne\n",
    "        etiq1 = []  # Etiquette provisoire 1 {X,\n",
    "        etiq2 = []  # Etiquette provisoire 2 ,X}\n",
    "        \n",
    "        if type(clade_childs[0].character) == str: \n",
    "            etiq1.append(clade[0].character) \n",
    "        if type(clade_childs[1].character) == str:\n",
    "            etiq2.append(clade[1].character)\n",
    "        \n",
    "        intersection = set(etiq1) & set(etiq2)\n",
    "        union = set(etiq1) | set(etiq2)\n",
    "        if len(intersection) == 0:\n",
    "            clade.character = union\n",
    "        else:\n",
    "            clade.character = intersection"
   ]
  },
  {
   "cell_type": "code",
   "execution_count": 467,
   "metadata": {},
   "outputs": [],
   "source": [
    "#Incomplet \n",
    "#def phase_descendante(self):\n",
    "   # parent = clade.parent\n",
    "   # for clade in tree.get_nonterminals(order=\"preorder\"):\n",
    "   #     if type(clade.name) == str:\n",
    "   #         clade.name = ','.join(clade.name) \n",
    "   #         for clade_childs in clade.clades:\n",
    "   #              if str[clade_childs.name] == str[clade.name]:"
   ]
  },
  {
   "cell_type": "markdown",
   "metadata": {},
   "source": [
    "Exemple en utilisant les implémentations Biopython"
   ]
  },
  {
   "cell_type": "code",
   "execution_count": 372,
   "metadata": {},
   "outputs": [
    {
     "name": "stdout",
     "output_type": "stream",
     "text": [
      "  name  seq\n",
      "0    a  ACT\n",
      "1    b  AGA\n",
      "2    c  TGA\n",
      "3    d  AGT\n",
      "4    e  ACT\n",
      "5    f  TCG\n"
     ]
    }
   ],
   "source": [
    "data = {'name' : ['a', 'b', 'c', 'd', 'e', 'f'],\n",
    "        'seq': ['ACT',\n",
    "                 'AGA',\n",
    "                 'TGA',\n",
    "                 'AGT',\n",
    "                 'ACT',\n",
    "                 'TCG']\n",
    "}\n",
    "ndf = pd.DataFrame.from_dict(data)\n",
    "print(ndf)"
   ]
  },
  {
   "cell_type": "markdown",
   "metadata": {},
   "source": [
    "Conversion au format phylip"
   ]
  },
  {
   "cell_type": "code",
   "execution_count": 447,
   "metadata": {},
   "outputs": [],
   "source": [
    "with open(\"tree.phy\", 'w') as f:\n",
    "    f.write(\"{:10} {}\\n\".format(ndf.shape[0], ndf.seq.str.len()[0]))\n",
    "    for row in ndf.iterrows():\n",
    "        f.write(\"{:10} {}\\n\".format(*row[1].to_list()))"
   ]
  },
  {
   "cell_type": "markdown",
   "metadata": {},
   "source": [
    "Alignement des séquences "
   ]
  },
  {
   "cell_type": "code",
   "execution_count": 448,
   "metadata": {},
   "outputs": [
    {
     "name": "stdout",
     "output_type": "stream",
     "text": [
      "Alignment with 6 rows and 3 columns\n",
      "ACT a\n",
      "AGA b\n",
      "TGA c\n",
      "AGT d\n",
      "ACT e\n",
      "TCG f\n"
     ]
    }
   ],
   "source": [
    "aln = AlignIO.read(open('tree.phy'), 'phylip')\n",
    "print(aln)"
   ]
  },
  {
   "cell_type": "markdown",
   "metadata": {},
   "source": [
    "Calculer le score de parcimonie basé sur l'algorithme de Fitch"
   ]
  },
  {
   "cell_type": "code",
   "execution_count": null,
   "metadata": {},
   "outputs": [],
   "source": [
    "starting_tree = Phylo.read('tree.phy', 'newick')\n",
    "scorer = Phylo.TreeConstruction.ParsimonyScorer() \n",
    "searcher = Phylo.TreeConstruction.NNITreeSearcher(scorer) \n",
    "constructor = Phylo.TreeConstruction.ParsimonyTreeConstructor(searcher, starting_tree)\n",
    "pars_tree = constructor.build_tree(aln)\n",
    "print(starting_tree)\n",
    "Phylo.draw(starting_tree, axes=axes) "
   ]
  }
 ],
 "metadata": {
  "kernelspec": {
   "display_name": "Python 3.9.7 ('base')",
   "language": "python",
   "name": "python3"
  },
  "language_info": {
   "codemirror_mode": {
    "name": "ipython",
    "version": 3
   },
   "file_extension": ".py",
   "mimetype": "text/x-python",
   "name": "python",
   "nbconvert_exporter": "python",
   "pygments_lexer": "ipython3",
   "version": "3.9.7"
  },
  "orig_nbformat": 4,
  "vscode": {
   "interpreter": {
    "hash": "ad2bdc8ecc057115af97d19610ffacc2b4e99fae6737bb82f5d7fb13d2f2c186"
   }
  }
 },
 "nbformat": 4,
 "nbformat_minor": 2
}
